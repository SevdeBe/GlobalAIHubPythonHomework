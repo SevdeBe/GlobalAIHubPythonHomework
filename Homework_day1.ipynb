{
 "cells": [
  {
   "cell_type": "code",
   "execution_count": null,
   "metadata": {},
   "outputs": [],
   "source": [
    "value1 = int(input(\"please input the first value: \"))\n",
    "value2 = int(input(\"please input the second value: \"))\n",
    "value3 = int(input(\"please input the third value: \"))\n",
    "value4 = int(input(\"please input the fourth value: \"))\n",
    "value5 = int(input(\"please input the fifth value: \"))\n",
    "print(\"values are: \", value1, value2, value3, value4, value5)\n",
    "\n",
    "print(\"type of value1:\", type(value1),\n",
    "     \", type of value2:\", type(value2),\n",
    "     \", type of value3:\", type(value3),\n",
    "     \", type of value4:\", type(value4),\n",
    "     \", type of value5:\", type(value5))\n",
    "\n",
    "#first way below;\n",
    "print(\"first value:{} second value:{} third value:{} fourth value:{} fifth value:{}\".format(value1, value2, value3, value4, value5))\n",
    "\n",
    "#second way below;\n",
    "print(f'first value: {value1} second value: {value2} third value: {value3} fourth value: {value4} fifth value: {value5}')"
   ]
  },
  {
   "cell_type": "code",
   "execution_count": null,
   "metadata": {},
   "outputs": [],
   "source": []
  }
 ],
 "metadata": {
  "kernelspec": {
   "display_name": "Python 3",
   "language": "python",
   "name": "python3"
  },
  "language_info": {
   "codemirror_mode": {
    "name": "ipython",
    "version": 3
   },
   "file_extension": ".py",
   "mimetype": "text/x-python",
   "name": "python",
   "nbconvert_exporter": "python",
   "pygments_lexer": "ipython3",
   "version": "3.8.5"
  }
 },
 "nbformat": 4,
 "nbformat_minor": 4
}
