{
 "cells": [
  {
   "cell_type": "code",
   "execution_count": null,
   "metadata": {},
   "outputs": [],
   "source": [
    "userlist = list()\n",
    "\n",
    "name = str(input(\"please enter your name: \"))\n",
    "userlist.append(name)\n",
    "\n",
    "surname = str(input(\"please enter your surname: \"))\n",
    "userlist.append(surname)\n",
    "\n",
    "age = int(input(\"please enter your age: \"))\n",
    "userlist.append(age)\n",
    "\n",
    "birthdate = int(input(\"please enter year of birth: \"))\n",
    "userlist.append(birthdate)\n",
    "\n",
    "for i in userlist:\n",
    "    print(i)\n",
    "\n",
    "if age < 18:\n",
    "    print(\"you can't go out because it'dangerous!\")\n",
    "else:\n",
    "    print(\"you can go out to the street\")"
   ]
  }
 ],
 "metadata": {
  "kernelspec": {
   "display_name": "Python 3",
   "language": "python",
   "name": "python3"
  },
  "language_info": {
   "codemirror_mode": {
    "name": "ipython",
    "version": 3
   },
   "file_extension": ".py",
   "mimetype": "text/x-python",
   "name": "python",
   "nbconvert_exporter": "python",
   "pygments_lexer": "ipython3",
   "version": "3.8.5"
  }
 },
 "nbformat": 4,
 "nbformat_minor": 4
}
